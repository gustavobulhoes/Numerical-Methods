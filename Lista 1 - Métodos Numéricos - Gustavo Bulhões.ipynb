{
 "cells": [
  {
   "cell_type": "markdown",
   "metadata": {},
   "source": [
    "# Lista 1 - Métodos Numéricos\n",
    "# Professor: Cézar Santos\n",
    "# Aluno: Gustavo Bulhões Carvalho da Paz Freire"
   ]
  },
  {
   "cell_type": "markdown",
   "metadata": {},
   "source": [
    "## Parâmetros"
   ]
  },
  {
   "cell_type": "code",
   "execution_count": 2,
   "metadata": {},
   "outputs": [],
   "source": [
    "import numpy as np\n",
    "from scipy.stats import norm"
   ]
  },
  {
   "cell_type": "code",
   "execution_count": 80,
   "metadata": {},
   "outputs": [],
   "source": [
    "N=9\n",
    "ro=0.95\n",
    "sigma=0.007\n",
    "m=3"
   ]
  },
  {
   "cell_type": "markdown",
   "metadata": {},
   "source": [
    "## Questão 1 - Tauchen (1986)"
   ]
  },
  {
   "cell_type": "code",
   "execution_count": 81,
   "metadata": {},
   "outputs": [],
   "source": [
    "# CDF da Normal(0,sigma**2)\n",
    "F = norm(loc=0, scale=sigma).cdf\n",
    "\n",
    "# desvio padrão de y_t\n",
    "std = np.sqrt(sigma**2 / (1-ro**2))\n",
    "\n",
    "# upper bound do grid\n",
    "z_N = m * std\n",
    "\n",
    "# lower bound do grid\n",
    "z_1 = - z_N\n",
    "\n",
    "# grid\n",
    "z = np.linspace(z_1, z_N, N)\n",
    "\n",
    "# Matriz de transição\n",
    "delta_z = (z_N - z_1) / (N - 1)\n",
    "half_delta = 0.5 * delta_z\n",
    "P = np.empty((N, N))\n",
    "\n",
    "for i in range(N):\n",
    "    P[i, 0] = F(z[0]-ro * z[i] + half_delta)\n",
    "    P[i, N-1] = 1 - F(z[N-1] - ro * z[i] - half_delta)\n",
    "    for j in range(1, N-1):\n",
    "        x = z[j] - ro * z[i]\n",
    "        P[i, j] = F(x + half_delta) - F(x - half_delta)"
   ]
  },
  {
   "cell_type": "code",
   "execution_count": 82,
   "metadata": {},
   "outputs": [
    {
     "data": {
      "text/plain": [
       "array([[0.764, 0.235, 0.001, 0.   , 0.   , 0.   , 0.   , 0.   , 0.   ],\n",
       "       [0.059, 0.741, 0.2  , 0.001, 0.   , 0.   , 0.   , 0.   , 0.   ],\n",
       "       [0.   , 0.075, 0.757, 0.168, 0.   , 0.   , 0.   , 0.   , 0.   ],\n",
       "       [0.   , 0.   , 0.093, 0.767, 0.14 , 0.   , 0.   , 0.   , 0.   ],\n",
       "       [0.   , 0.   , 0.   , 0.115, 0.77 , 0.115, 0.   , 0.   , 0.   ],\n",
       "       [0.   , 0.   , 0.   , 0.   , 0.14 , 0.767, 0.093, 0.   , 0.   ],\n",
       "       [0.   , 0.   , 0.   , 0.   , 0.   , 0.168, 0.757, 0.075, 0.   ],\n",
       "       [0.   , 0.   , 0.   , 0.   , 0.   , 0.001, 0.2  , 0.741, 0.059],\n",
       "       [0.   , 0.   , 0.   , 0.   , 0.   , 0.   , 0.001, 0.235, 0.764]])"
      ]
     },
     "execution_count": 82,
     "metadata": {},
     "output_type": "execute_result"
    }
   ],
   "source": [
    "P.round(3)"
   ]
  },
  {
   "cell_type": "code",
   "execution_count": 83,
   "metadata": {},
   "outputs": [
    {
     "data": {
      "text/plain": [
       "array([-0.0673, -0.0504, -0.0336, -0.0168,  0.    ,  0.0168,  0.0336,\n",
       "        0.0504,  0.0673])"
      ]
     },
     "execution_count": 83,
     "metadata": {},
     "output_type": "execute_result"
    }
   ],
   "source": [
    "z.round(4)"
   ]
  },
  {
   "cell_type": "markdown",
   "metadata": {},
   "source": [
    "## Questão 2 - Rouwenhorst"
   ]
  },
  {
   "cell_type": "code",
   "execution_count": 84,
   "metadata": {},
   "outputs": [],
   "source": [
    "# sigma_theta**2\n",
    "sigma_theta2 = (sigma**2/(1 - ro**2))\n",
    "\n",
    "# upper bound do grid\n",
    "theta_N = np.sqrt((sigma_theta2)*(N-1))\n",
    "\n",
    "# lower bound do grid\n",
    "theta_1 = -theta_N\n",
    "\n",
    "# grid\n",
    "theta = np.linspace(theta_1, theta_N, N)\n",
    "\n",
    "# p\n",
    "p = (1+ro)/2"
   ]
  },
  {
   "cell_type": "code",
   "execution_count": 85,
   "metadata": {},
   "outputs": [
    {
     "data": {
      "text/plain": [
       "array([-0.0634, -0.0476, -0.0317, -0.0159,  0.    ,  0.0159,  0.0317,\n",
       "        0.0476,  0.0634])"
      ]
     },
     "execution_count": 85,
     "metadata": {},
     "output_type": "execute_result"
    }
   ],
   "source": [
    "theta.round(4)"
   ]
  },
  {
   "cell_type": "code",
   "execution_count": 86,
   "metadata": {},
   "outputs": [
    {
     "data": {
      "text/plain": [
       "array([[0.975, 0.025],\n",
       "       [0.025, 0.975]])"
      ]
     },
     "execution_count": 86,
     "metadata": {},
     "output_type": "execute_result"
    }
   ],
   "source": [
    "# P2\n",
    "P2 = [[p, 1-p],[1-p, p]]\n",
    "Pr = np.array(P2)\n",
    "Pr"
   ]
  },
  {
   "cell_type": "code",
   "execution_count": 87,
   "metadata": {},
   "outputs": [],
   "source": [
    "# Matriz de transição\n",
    "\n",
    "for i in range (3,N+1):\n",
    "    Pr = p*np.vstack((np.hstack((Pr,np.zeros((i-1,1)))), np.zeros((1, i)))) \\\n",
    "        + (1-p)*np.vstack((np.hstack((np.zeros((i-1, 1)), Pr)), np.zeros((1, i)))) \\\n",
    "        + (1-p)*np.vstack((np.zeros((1, i)), np.hstack((Pr, np.zeros((i-1, 1)))))) \\\n",
    "        + p*np.vstack((np.zeros((1, i)), np.hstack((np.zeros((i-1, 1)), Pr))))\n",
    "    Pr[1:-1] /= 2.\n",
    "        "
   ]
  },
  {
   "cell_type": "code",
   "execution_count": 88,
   "metadata": {},
   "outputs": [
    {
     "data": {
      "text/plain": [
       "array([[0.817, 0.168, 0.015, 0.001, 0.   , 0.   , 0.   , 0.   , 0.   ],\n",
       "       [0.021, 0.82 , 0.147, 0.011, 0.   , 0.   , 0.   , 0.   , 0.   ],\n",
       "       [0.001, 0.042, 0.823, 0.126, 0.008, 0.   , 0.   , 0.   , 0.   ],\n",
       "       [0.   , 0.002, 0.063, 0.825, 0.105, 0.005, 0.   , 0.   , 0.   ],\n",
       "       [0.   , 0.   , 0.003, 0.084, 0.825, 0.084, 0.003, 0.   , 0.   ],\n",
       "       [0.   , 0.   , 0.   , 0.005, 0.105, 0.825, 0.063, 0.002, 0.   ],\n",
       "       [0.   , 0.   , 0.   , 0.   , 0.008, 0.126, 0.823, 0.042, 0.001],\n",
       "       [0.   , 0.   , 0.   , 0.   , 0.   , 0.011, 0.147, 0.82 , 0.021],\n",
       "       [0.   , 0.   , 0.   , 0.   , 0.   , 0.001, 0.015, 0.168, 0.817]])"
      ]
     },
     "execution_count": 88,
     "metadata": {},
     "output_type": "execute_result"
    }
   ],
   "source": [
    "Pr.round(3)"
   ]
  },
  {
   "cell_type": "markdown",
   "metadata": {},
   "source": [
    "## Questão 3 - Simulando para 10000 períodos e comparando"
   ]
  },
  {
   "cell_type": "code",
   "execution_count": 89,
   "metadata": {},
   "outputs": [],
   "source": [
    "time = 10000"
   ]
  },
  {
   "cell_type": "markdown",
   "metadata": {},
   "source": [
    "### AR(1) contínuo"
   ]
  },
  {
   "cell_type": "code",
   "execution_count": 90,
   "metadata": {},
   "outputs": [],
   "source": [
    "y = np.zeros((1,time))\n",
    "cont = np.transpose(y)"
   ]
  },
  {
   "cell_type": "code",
   "execution_count": 91,
   "metadata": {},
   "outputs": [],
   "source": [
    "# epslon (normal padrão)\n",
    "e = np.random.normal(loc=0, scale=1, size=time)\n",
    "cont[0] = 0"
   ]
  },
  {
   "cell_type": "code",
   "execution_count": 92,
   "metadata": {},
   "outputs": [],
   "source": [
    "# simulando\n",
    "for t in range(1,time):\n",
    "    cont[t] = ro*cont[t-1] + sigma*e[t]"
   ]
  },
  {
   "cell_type": "code",
   "execution_count": 93,
   "metadata": {},
   "outputs": [],
   "source": [
    "# criando variável tempo\n",
    "tempo = np.linspace(1,time,time, dtype=np.int64)"
   ]
  },
  {
   "cell_type": "markdown",
   "metadata": {},
   "source": [
    "### AR(1) discretizado - Tauchen"
   ]
  },
  {
   "cell_type": "code",
   "execution_count": 94,
   "metadata": {},
   "outputs": [],
   "source": [
    "tauch = np.ones((time,1), dtype = np.int64)"
   ]
  },
  {
   "cell_type": "code",
   "execution_count": 95,
   "metadata": {},
   "outputs": [],
   "source": [
    "# simulando\n",
    "for t in range(2,time):\n",
    "    x = np.where(norm(loc=0, scale=1).cdf(e[t]) <= P[tauch[t-1]].cumsum())\n",
    "    g = np.transpose(x)\n",
    "    tauch[t] = g[0]"
   ]
  },
  {
   "cell_type": "code",
   "execution_count": 96,
   "metadata": {},
   "outputs": [],
   "source": [
    "# recuperando os valores no grid\n",
    "tauchen = z[tauch]"
   ]
  },
  {
   "cell_type": "markdown",
   "metadata": {},
   "source": [
    "### AR(1) discretizado - Rouwenhorst"
   ]
  },
  {
   "cell_type": "code",
   "execution_count": 97,
   "metadata": {},
   "outputs": [],
   "source": [
    "rouwen = np.ones((time,1), dtype = np.int64)"
   ]
  },
  {
   "cell_type": "code",
   "execution_count": 98,
   "metadata": {},
   "outputs": [],
   "source": [
    "# simulando\n",
    "for t in range(2,time):\n",
    "    x = np.where(norm(loc=0, scale=1).cdf(e[t]) <= Pr[rouwen[t-1]].cumsum())\n",
    "    g = np.transpose(x)\n",
    "    rouwen[t] = g[0]"
   ]
  },
  {
   "cell_type": "code",
   "execution_count": 99,
   "metadata": {},
   "outputs": [],
   "source": [
    "# recuperando os valores no grid\n",
    "rouwenhorst = theta[rouwen]"
   ]
  },
  {
   "cell_type": "markdown",
   "metadata": {},
   "source": [
    "### Comparativo"
   ]
  },
  {
   "cell_type": "code",
   "execution_count": 101,
   "metadata": {},
   "outputs": [],
   "source": [
    "import plotly.plotly as py\n",
    "import plotly.graph_objs as go"
   ]
  },
  {
   "cell_type": "code",
   "execution_count": 102,
   "metadata": {},
   "outputs": [
    {
     "data": {
      "text/html": [
       "<iframe id=\"igraph\" scrolling=\"no\" style=\"border:none;\" seamless=\"seamless\" src=\"https://plot.ly/~gustavobulhoes/8.embed\" height=\"525px\" width=\"100%\"></iframe>"
      ],
      "text/plain": [
       "<plotly.tools.PlotlyDisplay object>"
      ]
     },
     "execution_count": 102,
     "metadata": {},
     "output_type": "execute_result"
    }
   ],
   "source": [
    "trace0 = go.Scatter(\n",
    "    x = tempo,\n",
    "    y = cont,\n",
    "    mode = 'lines',\n",
    "    name = 'Contínuo'\n",
    ")\n",
    "trace1 = go.Scatter(\n",
    "    x = tempo,\n",
    "    y = tauchen,\n",
    "    mode = 'lines',\n",
    "    name = 'Tauchen'\n",
    ")\n",
    "trace2 = go.Scatter(\n",
    "    x = tempo,\n",
    "    y = rouwenhorst,\n",
    "    mode = 'lines',\n",
    "    name = 'Rouwenhorst'\n",
    ")\n",
    "\n",
    "data = [trace0, trace1, trace2]\n",
    "layout = go.Layout(\n",
    "    title='Comparativo das simulações do AR(1) contínuo e discretizado',\n",
    "    xaxis=dict(\n",
    "        title='Tempo'\n",
    "        )\n",
    "    ,\n",
    "    yaxis=dict(\n",
    "        title='Processo'\n",
    "    )\n",
    ")\n",
    "fig = go.Figure(data=data, layout=layout)\n",
    "py.iplot(fig, filename='cont vs tauchen vs rouwenhorst')"
   ]
  },
  {
   "cell_type": "markdown",
   "metadata": {},
   "source": [
    "Plotando os 3 processos juntos, vemos que em geral as simulações dos métodos discretizados estão razoavelmente próximas do AR(1) contínuo. Vamos comparar agora um processo discretizado de cada vez. "
   ]
  },
  {
   "cell_type": "code",
   "execution_count": 103,
   "metadata": {},
   "outputs": [
    {
     "data": {
      "text/html": [
       "<iframe id=\"igraph\" scrolling=\"no\" style=\"border:none;\" seamless=\"seamless\" src=\"https://plot.ly/~gustavobulhoes/4.embed\" height=\"525px\" width=\"100%\"></iframe>"
      ],
      "text/plain": [
       "<plotly.tools.PlotlyDisplay object>"
      ]
     },
     "execution_count": 103,
     "metadata": {},
     "output_type": "execute_result"
    }
   ],
   "source": [
    "trace0 = go.Scatter(\n",
    "    x = tempo,\n",
    "    y = cont,\n",
    "    mode = 'lines',\n",
    "    name = 'Contínuo'\n",
    ")\n",
    "trace1 = go.Scatter(\n",
    "    x = tempo,\n",
    "    y = tauchen,\n",
    "    mode = 'lines',\n",
    "    name = 'Tauchen'\n",
    ")\n",
    "\n",
    "data = [trace0, trace1]\n",
    "layout = go.Layout(\n",
    "    title='Comparativo das simulações do AR(1) contínuo e discretizado',\n",
    "    xaxis=dict(\n",
    "        title='Tempo'\n",
    "        )\n",
    "    ,\n",
    "    yaxis=dict(\n",
    "        title='Processo'\n",
    "    )\n",
    ")\n",
    "fig = go.Figure(data=data, layout=layout)\n",
    "py.iplot(fig, filename='cont vs tauchen')"
   ]
  },
  {
   "cell_type": "code",
   "execution_count": 104,
   "metadata": {},
   "outputs": [
    {
     "data": {
      "text/html": [
       "<iframe id=\"igraph\" scrolling=\"no\" style=\"border:none;\" seamless=\"seamless\" src=\"https://plot.ly/~gustavobulhoes/12.embed\" height=\"525px\" width=\"100%\"></iframe>"
      ],
      "text/plain": [
       "<plotly.tools.PlotlyDisplay object>"
      ]
     },
     "execution_count": 104,
     "metadata": {},
     "output_type": "execute_result"
    }
   ],
   "source": [
    "trace0 = go.Scatter(\n",
    "    x = tempo,\n",
    "    y = cont,\n",
    "    mode = 'lines',\n",
    "    name = 'Contínuo'\n",
    ")\n",
    "trace1 = go.Scatter(\n",
    "    x = tempo,\n",
    "    y = rouwenhorst,\n",
    "    mode = 'lines',\n",
    "    name = 'Rouwenhorst'\n",
    ")\n",
    "\n",
    "data = [trace0, trace1]\n",
    "layout = go.Layout(\n",
    "    title='Comparativo das simulações do AR(1) contínuo e discretizado',\n",
    "    xaxis=dict(\n",
    "        title='Tempo'\n",
    "        )\n",
    "    ,\n",
    "    yaxis=dict(\n",
    "        title='Processo'\n",
    "    )\n",
    ")\n",
    "fig = go.Figure(data=data, layout=layout)\n",
    "py.iplot(fig, filename='cont vs rouwenhorst')"
   ]
  },
  {
   "cell_type": "markdown",
   "metadata": {},
   "source": [
    "Nota-se que, para os valores dados dos parâmetros, o método de Tauchen parece aproximar melhor o processo contínuo do que o de Rouwenhorst. Para vermos em mais detalhes, vamos analisar especificamente para as 1000 primeiras simulações."
   ]
  },
  {
   "cell_type": "code",
   "execution_count": 105,
   "metadata": {},
   "outputs": [],
   "source": [
    "# apenas 1000 primeiros períodos\n",
    "tempo2 = np.linspace(1, 1000, 1000, dtype = np.int64)"
   ]
  },
  {
   "cell_type": "code",
   "execution_count": 106,
   "metadata": {},
   "outputs": [],
   "source": [
    "# gerando vetores para primeiros 1000 períodos\n",
    "cont1000 = cont[0:1000]\n",
    "tauchen1000 = tauchen[0:1000]\n",
    "rouwenhorst1000 = rouwenhorst[0:1000]"
   ]
  },
  {
   "cell_type": "code",
   "execution_count": 107,
   "metadata": {},
   "outputs": [
    {
     "data": {
      "text/html": [
       "<iframe id=\"igraph\" scrolling=\"no\" style=\"border:none;\" seamless=\"seamless\" src=\"https://plot.ly/~gustavobulhoes/14.embed\" height=\"525px\" width=\"100%\"></iframe>"
      ],
      "text/plain": [
       "<plotly.tools.PlotlyDisplay object>"
      ]
     },
     "execution_count": 107,
     "metadata": {},
     "output_type": "execute_result"
    }
   ],
   "source": [
    "trace0 = go.Scatter(\n",
    "    x = tempo2,\n",
    "    y = cont1000,\n",
    "    mode = 'lines',\n",
    "    name = 'Contínuo'\n",
    ")\n",
    "trace1 = go.Scatter(\n",
    "    x = tempo2,\n",
    "    y = tauchen1000,\n",
    "    mode = 'lines',\n",
    "    name = 'Tauchen'\n",
    ")\n",
    "trace2 = go.Scatter(\n",
    "    x = tempo2,\n",
    "    y = rouwenhorst1000,\n",
    "    mode = 'lines',\n",
    "    name = 'Rouwenhorst'\n",
    ")\n",
    "\n",
    "data = [trace0, trace1, trace2]\n",
    "layout = go.Layout(\n",
    "    title='Comparativo das 1000 primeiras simulações do AR(1) contínuo e discretizado',\n",
    "    xaxis=dict(\n",
    "        title='Tempo'\n",
    "        )\n",
    "    ,\n",
    "    yaxis=dict(\n",
    "        title='Processo'\n",
    "    )\n",
    ")\n",
    "fig = go.Figure(data=data, layout=layout)\n",
    "py.iplot(fig, filename='cont vs tauchen vs rouwenhorst 1000')"
   ]
  },
  {
   "cell_type": "markdown",
   "metadata": {},
   "source": [
    "No entanto, nas 1000 primeiras simulações o método de Rouwenhorst parece ter performado melhor que o de Tauchen."
   ]
  },
  {
   "cell_type": "markdown",
   "metadata": {},
   "source": [
    "## Questão 4 - Estimando AR(1) com base nos dados simulados"
   ]
  },
  {
   "cell_type": "code",
   "execution_count": 31,
   "metadata": {},
   "outputs": [],
   "source": [
    "import scipy as sp"
   ]
  },
  {
   "cell_type": "markdown",
   "metadata": {},
   "source": [
    "### Tauchen"
   ]
  },
  {
   "cell_type": "code",
   "execution_count": 109,
   "metadata": {},
   "outputs": [],
   "source": [
    "# ajustando dimensões\n",
    "x = np.transpose(tauchen[0:-1])\n",
    "xp = x.ravel()\n",
    "w = np.transpose(tauchen[1:])\n",
    "wp = w.ravel()"
   ]
  },
  {
   "cell_type": "code",
   "execution_count": 110,
   "metadata": {},
   "outputs": [
    {
     "data": {
      "text/plain": [
       "0.9515206315244659"
      ]
     },
     "execution_count": 110,
     "metadata": {},
     "output_type": "execute_result"
    }
   ],
   "source": [
    "# estimando rô\n",
    "h = sp.polyfit(xp,wp,1)\n",
    "ro_hat_tauchen = h[0]\n",
    "ro_hat_tauchen"
   ]
  },
  {
   "cell_type": "code",
   "execution_count": 111,
   "metadata": {},
   "outputs": [
    {
     "data": {
      "text/plain": [
       "0.008015229719480228"
      ]
     },
     "execution_count": 111,
     "metadata": {},
     "output_type": "execute_result"
    }
   ],
   "source": [
    "# estimando sigma\n",
    "wp_hat = sp.polyval(h,xp)\n",
    "variance_t = sp.var(wp - wp_hat)\n",
    "sigma_hat_tauchen = sp.sqrt(variance_t)\n",
    "sigma_hat_tauchen"
   ]
  },
  {
   "cell_type": "markdown",
   "metadata": {},
   "source": [
    "### Rouwenhorst"
   ]
  },
  {
   "cell_type": "code",
   "execution_count": 112,
   "metadata": {},
   "outputs": [],
   "source": [
    "# ajustando dimensões\n",
    "a = np.transpose(rouwenhorst[0:-1])\n",
    "ap = a.ravel()\n",
    "b = np.transpose(rouwenhorst[1:])\n",
    "bp = b.ravel()"
   ]
  },
  {
   "cell_type": "code",
   "execution_count": 113,
   "metadata": {},
   "outputs": [
    {
     "data": {
      "text/plain": [
       "0.949216730373561"
      ]
     },
     "execution_count": 113,
     "metadata": {},
     "output_type": "execute_result"
    }
   ],
   "source": [
    "# estimando rô\n",
    "g = sp.polyfit(ap,bp,1)\n",
    "ro_hat_rouwenhorst = g[0]\n",
    "ro_hat_rouwenhorst"
   ]
  },
  {
   "cell_type": "code",
   "execution_count": 114,
   "metadata": {},
   "outputs": [
    {
     "data": {
      "text/plain": [
       "0.006907035193957205"
      ]
     },
     "execution_count": 114,
     "metadata": {},
     "output_type": "execute_result"
    }
   ],
   "source": [
    "# estimando sigma\n",
    "bp_hat = sp.polyval(g,ap)\n",
    "variance_r = sp.var(bp - bp_hat)\n",
    "sigma_hat_rouwenhorst = sp.sqrt(variance_r)\n",
    "sigma_hat_rouwenhorst"
   ]
  },
  {
   "cell_type": "markdown",
   "metadata": {},
   "source": [
    "Estimando processos AR(1) com base nos dados simulados, notamos que ambos estão próximos do processo gerador de dados real, com os coeficientes estimados com os dados simulados do método de Rouwenhorst chegando mais perto dos parâmetros verdadeiros. "
   ]
  },
  {
   "cell_type": "markdown",
   "metadata": {},
   "source": [
    "### Questão 5 - Refazendo questões acima para rô = 0.99"
   ]
  },
  {
   "cell_type": "code",
   "execution_count": 115,
   "metadata": {},
   "outputs": [],
   "source": [
    "ro=0.99"
   ]
  },
  {
   "cell_type": "markdown",
   "metadata": {},
   "source": [
    "#### Questão 1"
   ]
  },
  {
   "cell_type": "code",
   "execution_count": 116,
   "metadata": {},
   "outputs": [],
   "source": [
    "# CDF da Normal(0,sigma**2)\n",
    "F = norm(loc=0, scale=sigma).cdf\n",
    "\n",
    "# desvio padrão de y_t\n",
    "std = np.sqrt(sigma**2 / (1-ro**2))\n",
    "\n",
    "# upper bound do grid\n",
    "z_N = m * std\n",
    "\n",
    "# lower bound do grid\n",
    "z_1 = - z_N\n",
    "\n",
    "# grid\n",
    "z = np.linspace(z_1, z_N, N)\n",
    "\n",
    "# Matriz de transição\n",
    "delta_z = (z_N - z_1) / (N - 1)\n",
    "half_delta = 0.5 * delta_z\n",
    "P = np.empty((N, N))\n",
    "\n",
    "for i in range(N):\n",
    "    P[i, 0] = F(z[0]-ro * z[i] + half_delta)\n",
    "    P[i, N-1] = 1 - F(z[N-1] - ro * z[i] - half_delta)\n",
    "    for j in range(1, N-1):\n",
    "        x = z[j] - ro * z[i]\n",
    "        P[i, j] = F(x + half_delta) - F(x - half_delta)"
   ]
  },
  {
   "cell_type": "code",
   "execution_count": 117,
   "metadata": {},
   "outputs": [
    {
     "data": {
      "text/plain": [
       "array([[0.993, 0.007, 0.   , 0.   , 0.   , 0.   , 0.   , 0.   , 0.   ],\n",
       "       [0.002, 0.991, 0.006, 0.   , 0.   , 0.   , 0.   , 0.   , 0.   ],\n",
       "       [0.   , 0.003, 0.992, 0.005, 0.   , 0.   , 0.   , 0.   , 0.   ],\n",
       "       [0.   , 0.   , 0.003, 0.992, 0.005, 0.   , 0.   , 0.   , 0.   ],\n",
       "       [0.   , 0.   , 0.   , 0.004, 0.992, 0.004, 0.   , 0.   , 0.   ],\n",
       "       [0.   , 0.   , 0.   , 0.   , 0.005, 0.992, 0.003, 0.   , 0.   ],\n",
       "       [0.   , 0.   , 0.   , 0.   , 0.   , 0.005, 0.992, 0.003, 0.   ],\n",
       "       [0.   , 0.   , 0.   , 0.   , 0.   , 0.   , 0.006, 0.991, 0.002],\n",
       "       [0.   , 0.   , 0.   , 0.   , 0.   , 0.   , 0.   , 0.007, 0.993]])"
      ]
     },
     "execution_count": 117,
     "metadata": {},
     "output_type": "execute_result"
    }
   ],
   "source": [
    "P.round(3)"
   ]
  },
  {
   "cell_type": "code",
   "execution_count": 118,
   "metadata": {},
   "outputs": [
    {
     "data": {
      "text/plain": [
       "array([-0.1489, -0.1116, -0.0744, -0.0372,  0.    ,  0.0372,  0.0744,\n",
       "        0.1116,  0.1489])"
      ]
     },
     "execution_count": 118,
     "metadata": {},
     "output_type": "execute_result"
    }
   ],
   "source": [
    "z.round(4)"
   ]
  },
  {
   "cell_type": "markdown",
   "metadata": {},
   "source": [
    "#### Questão 2"
   ]
  },
  {
   "cell_type": "code",
   "execution_count": 119,
   "metadata": {},
   "outputs": [],
   "source": [
    "# sigma_theta**2\n",
    "sigma_theta2 = (sigma**2/(1 - ro**2))\n",
    "\n",
    "# upper bound do grid\n",
    "theta_N = np.sqrt((sigma_theta2)*(N-1))\n",
    "\n",
    "# lower bound do grid\n",
    "theta_1 = -theta_N\n",
    "\n",
    "# grid\n",
    "theta = np.linspace(theta_1, theta_N, N)\n",
    "\n",
    "# p\n",
    "p = (1+ro)/2"
   ]
  },
  {
   "cell_type": "code",
   "execution_count": 120,
   "metadata": {},
   "outputs": [
    {
     "data": {
      "text/plain": [
       "array([-0.1404, -0.1053, -0.0702, -0.0351,  0.    ,  0.0351,  0.0702,\n",
       "        0.1053,  0.1404])"
      ]
     },
     "execution_count": 120,
     "metadata": {},
     "output_type": "execute_result"
    }
   ],
   "source": [
    "theta.round(4)"
   ]
  },
  {
   "cell_type": "code",
   "execution_count": 121,
   "metadata": {},
   "outputs": [
    {
     "data": {
      "text/plain": [
       "array([[0.995, 0.005],\n",
       "       [0.005, 0.995]])"
      ]
     },
     "execution_count": 121,
     "metadata": {},
     "output_type": "execute_result"
    }
   ],
   "source": [
    "# P2\n",
    "P2 = [[p, 1-p],[1-p, p]]\n",
    "Pr = np.array(P2)\n",
    "Pr"
   ]
  },
  {
   "cell_type": "code",
   "execution_count": 122,
   "metadata": {},
   "outputs": [],
   "source": [
    "# Matriz de transição\n",
    "\n",
    "for i in range (3,N+1):\n",
    "    Pr = p*np.vstack((np.hstack((Pr,np.zeros((i-1,1)))), np.zeros((1, i)))) \\\n",
    "        + (1-p)*np.vstack((np.hstack((np.zeros((i-1, 1)), Pr)), np.zeros((1, i)))) \\\n",
    "        + (1-p)*np.vstack((np.zeros((1, i)), np.hstack((Pr, np.zeros((i-1, 1)))))) \\\n",
    "        + p*np.vstack((np.zeros((1, i)), np.hstack((np.zeros((i-1, 1)), Pr))))\n",
    "    Pr[1:-1] /= 2.\n",
    "        "
   ]
  },
  {
   "cell_type": "code",
   "execution_count": 123,
   "metadata": {},
   "outputs": [
    {
     "data": {
      "text/plain": [
       "array([[0.961, 0.039, 0.001, 0.   , 0.   , 0.   , 0.   , 0.   , 0.   ],\n",
       "       [0.005, 0.961, 0.034, 0.001, 0.   , 0.   , 0.   , 0.   , 0.   ],\n",
       "       [0.   , 0.01 , 0.961, 0.029, 0.   , 0.   , 0.   , 0.   , 0.   ],\n",
       "       [0.   , 0.   , 0.014, 0.961, 0.024, 0.   , 0.   , 0.   , 0.   ],\n",
       "       [0.   , 0.   , 0.   , 0.019, 0.961, 0.019, 0.   , 0.   , 0.   ],\n",
       "       [0.   , 0.   , 0.   , 0.   , 0.024, 0.961, 0.014, 0.   , 0.   ],\n",
       "       [0.   , 0.   , 0.   , 0.   , 0.   , 0.029, 0.961, 0.01 , 0.   ],\n",
       "       [0.   , 0.   , 0.   , 0.   , 0.   , 0.001, 0.034, 0.961, 0.005],\n",
       "       [0.   , 0.   , 0.   , 0.   , 0.   , 0.   , 0.001, 0.039, 0.961]])"
      ]
     },
     "execution_count": 123,
     "metadata": {},
     "output_type": "execute_result"
    }
   ],
   "source": [
    "Pr.round(3)"
   ]
  },
  {
   "cell_type": "markdown",
   "metadata": {},
   "source": [
    "#### Questão 3"
   ]
  },
  {
   "cell_type": "code",
   "execution_count": 124,
   "metadata": {},
   "outputs": [],
   "source": [
    "# simulando - contínuo\n",
    "for t in range(1,time):\n",
    "    cont[t] = ro*cont[t-1] + sigma*e[t]"
   ]
  },
  {
   "cell_type": "code",
   "execution_count": 125,
   "metadata": {},
   "outputs": [],
   "source": [
    "# simulando - tauchen\n",
    "for t in range(2,time):\n",
    "    x = np.where(norm(loc=0, scale=1).cdf(e[t]) <= P[tauch[t-1]].cumsum())\n",
    "    g = np.transpose(x)\n",
    "    tauch[t] = g[0]"
   ]
  },
  {
   "cell_type": "code",
   "execution_count": 126,
   "metadata": {},
   "outputs": [],
   "source": [
    "# recuperando os valores no grid\n",
    "tauchen = z[tauch]"
   ]
  },
  {
   "cell_type": "code",
   "execution_count": 127,
   "metadata": {},
   "outputs": [],
   "source": [
    "# simulando - rouwenhorst\n",
    "for t in range(2,time):\n",
    "    x = np.where(norm(loc=0, scale=1).cdf(e[t]) <= Pr[rouwen[t-1]].cumsum())\n",
    "    g = np.transpose(x)\n",
    "    rouwen[t] = g[0]"
   ]
  },
  {
   "cell_type": "code",
   "execution_count": 128,
   "metadata": {},
   "outputs": [],
   "source": [
    "# recuperando os valores no grid\n",
    "rouwenhorst = theta[rouwen]"
   ]
  },
  {
   "cell_type": "code",
   "execution_count": 129,
   "metadata": {},
   "outputs": [
    {
     "data": {
      "text/html": [
       "<iframe id=\"igraph\" scrolling=\"no\" style=\"border:none;\" seamless=\"seamless\" src=\"https://plot.ly/~gustavobulhoes/8.embed\" height=\"525px\" width=\"100%\"></iframe>"
      ],
      "text/plain": [
       "<plotly.tools.PlotlyDisplay object>"
      ]
     },
     "execution_count": 129,
     "metadata": {},
     "output_type": "execute_result"
    }
   ],
   "source": [
    "trace0 = go.Scatter(\n",
    "    x = tempo,\n",
    "    y = cont,\n",
    "    mode = 'lines',\n",
    "    name = 'Contínuo'\n",
    ")\n",
    "trace1 = go.Scatter(\n",
    "    x = tempo,\n",
    "    y = tauchen,\n",
    "    mode = 'lines',\n",
    "    name = 'Tauchen'\n",
    ")\n",
    "trace2 = go.Scatter(\n",
    "    x = tempo,\n",
    "    y = rouwenhorst,\n",
    "    mode = 'lines',\n",
    "    name = 'Rouwenhorst'\n",
    ")\n",
    "\n",
    "data = [trace0, trace1, trace2]\n",
    "layout = go.Layout(\n",
    "    title='Comparativo das simulações do AR(1) contínuo e discretizado',\n",
    "    xaxis=dict(\n",
    "        title='Tempo'\n",
    "        )\n",
    "    ,\n",
    "    yaxis=dict(\n",
    "        title='Processo'\n",
    "    )\n",
    ")\n",
    "fig = go.Figure(data=data, layout=layout)\n",
    "py.iplot(fig, filename='cont vs tauchen vs rouwenhorst')"
   ]
  },
  {
   "cell_type": "code",
   "execution_count": 130,
   "metadata": {},
   "outputs": [
    {
     "data": {
      "text/html": [
       "<iframe id=\"igraph\" scrolling=\"no\" style=\"border:none;\" seamless=\"seamless\" src=\"https://plot.ly/~gustavobulhoes/4.embed\" height=\"525px\" width=\"100%\"></iframe>"
      ],
      "text/plain": [
       "<plotly.tools.PlotlyDisplay object>"
      ]
     },
     "execution_count": 130,
     "metadata": {},
     "output_type": "execute_result"
    }
   ],
   "source": [
    "trace0 = go.Scatter(\n",
    "    x = tempo,\n",
    "    y = cont,\n",
    "    mode = 'lines',\n",
    "    name = 'Contínuo'\n",
    ")\n",
    "trace1 = go.Scatter(\n",
    "    x = tempo,\n",
    "    y = tauchen,\n",
    "    mode = 'lines',\n",
    "    name = 'Tauchen'\n",
    ")\n",
    "\n",
    "data = [trace0, trace1]\n",
    "layout = go.Layout(\n",
    "    title='Comparativo das simulações do AR(1) contínuo e discretizado',\n",
    "    xaxis=dict(\n",
    "        title='Tempo'\n",
    "        )\n",
    "    ,\n",
    "    yaxis=dict(\n",
    "        title='Processo'\n",
    "    )\n",
    ")\n",
    "fig = go.Figure(data=data, layout=layout)\n",
    "py.iplot(fig, filename='cont vs tauchen')"
   ]
  },
  {
   "cell_type": "code",
   "execution_count": 131,
   "metadata": {},
   "outputs": [
    {
     "data": {
      "text/html": [
       "<iframe id=\"igraph\" scrolling=\"no\" style=\"border:none;\" seamless=\"seamless\" src=\"https://plot.ly/~gustavobulhoes/12.embed\" height=\"525px\" width=\"100%\"></iframe>"
      ],
      "text/plain": [
       "<plotly.tools.PlotlyDisplay object>"
      ]
     },
     "execution_count": 131,
     "metadata": {},
     "output_type": "execute_result"
    }
   ],
   "source": [
    "trace0 = go.Scatter(\n",
    "    x = tempo,\n",
    "    y = cont,\n",
    "    mode = 'lines',\n",
    "    name = 'Contínuo'\n",
    ")\n",
    "trace1 = go.Scatter(\n",
    "    x = tempo,\n",
    "    y = rouwenhorst,\n",
    "    mode = 'lines',\n",
    "    name = 'Rouwenhorst'\n",
    ")\n",
    "\n",
    "data = [trace0, trace1]\n",
    "layout = go.Layout(\n",
    "    title='Comparativo das simulações do AR(1) contínuo e discretizado',\n",
    "    xaxis=dict(\n",
    "        title='Tempo'\n",
    "        )\n",
    "    ,\n",
    "    yaxis=dict(\n",
    "        title='Processo'\n",
    "    )\n",
    ")\n",
    "fig = go.Figure(data=data, layout=layout)\n",
    "py.iplot(fig, filename='cont vs rouwenhorst')"
   ]
  },
  {
   "cell_type": "markdown",
   "metadata": {},
   "source": [
    "Podemos observar que com rô=0.99 a performance dos métodos piorou consideravelmente. Porém, como esperado pelo valor de rô ser próximo de 1, o método de Rouwenhorst aproxima melhor o processo contínuo do que o de Tauchen. "
   ]
  },
  {
   "cell_type": "markdown",
   "metadata": {},
   "source": [
    "#### Questão 4"
   ]
  },
  {
   "cell_type": "code",
   "execution_count": 132,
   "metadata": {},
   "outputs": [
    {
     "data": {
      "text/plain": [
       "0.9980719725511991"
      ]
     },
     "execution_count": 132,
     "metadata": {},
     "output_type": "execute_result"
    }
   ],
   "source": [
    "# ajustando dimensões\n",
    "x = np.transpose(tauchen[0:-1])\n",
    "xp = x.ravel()\n",
    "w = np.transpose(tauchen[1:])\n",
    "wp = w.ravel()\n",
    "\n",
    "# estimando rô\n",
    "h = sp.polyfit(xp,wp,1)\n",
    "ro_hat_tauchen = h[0]\n",
    "ro_hat_tauchen"
   ]
  },
  {
   "cell_type": "code",
   "execution_count": 133,
   "metadata": {},
   "outputs": [
    {
     "data": {
      "text/plain": [
       "0.0033685391580913953"
      ]
     },
     "execution_count": 133,
     "metadata": {},
     "output_type": "execute_result"
    }
   ],
   "source": [
    "# estimando sigma\n",
    "wp_hat = sp.polyval(h,xp)\n",
    "variance_t = sp.var(wp - wp_hat)\n",
    "sigma_hat_tauchen = sp.sqrt(variance_t)\n",
    "sigma_hat_tauchen"
   ]
  },
  {
   "cell_type": "code",
   "execution_count": 134,
   "metadata": {},
   "outputs": [
    {
     "data": {
      "text/plain": [
       "0.9897898464304434"
      ]
     },
     "execution_count": 134,
     "metadata": {},
     "output_type": "execute_result"
    }
   ],
   "source": [
    "# ajustando dimensões\n",
    "a = np.transpose(rouwenhorst[0:-1])\n",
    "ap = a.ravel()\n",
    "b = np.transpose(rouwenhorst[1:])\n",
    "bp = b.ravel()\n",
    "\n",
    "# estimando rô\n",
    "g = sp.polyfit(ap,bp,1)\n",
    "ro_hat_rouwenhorst = g[0]\n",
    "ro_hat_rouwenhorst"
   ]
  },
  {
   "cell_type": "code",
   "execution_count": 135,
   "metadata": {},
   "outputs": [
    {
     "data": {
      "text/plain": [
       "0.0071980372761308985"
      ]
     },
     "execution_count": 135,
     "metadata": {},
     "output_type": "execute_result"
    }
   ],
   "source": [
    "# estimando sigma\n",
    "bp_hat = sp.polyval(g,ap)\n",
    "variance_r = sp.var(bp - bp_hat)\n",
    "sigma_hat_rouwenhorst = sp.sqrt(variance_r)\n",
    "sigma_hat_rouwenhorst"
   ]
  },
  {
   "cell_type": "markdown",
   "metadata": {},
   "source": [
    "A superioridade do método de Rouwenhorst para rô=0.99 é confirmada pelas estimações baseadas nos dados simulados. Enquanto as estimações baseadas nos dados do método de Rouwenhorst chegam bem próximas aos valores dos parâmetros, o sigma estimado com dados do método de Tauchen está distante do verdadeiro."
   ]
  },
  {
   "cell_type": "markdown",
   "metadata": {},
   "source": [
    "### Questão 5 - Grid com 20 pontos"
   ]
  },
  {
   "cell_type": "markdown",
   "metadata": {},
   "source": [
    "Como as simulações não ficaram próximas do processo contínuo e os resultados estimados de Tauchen foram ruins, vamos refazer as questões para um grid com 20 pontos e comparar os resultados."
   ]
  },
  {
   "cell_type": "code",
   "execution_count": 136,
   "metadata": {},
   "outputs": [],
   "source": [
    "N=20"
   ]
  },
  {
   "cell_type": "markdown",
   "metadata": {},
   "source": [
    "#### Questão 1"
   ]
  },
  {
   "cell_type": "code",
   "execution_count": 137,
   "metadata": {},
   "outputs": [],
   "source": [
    "# CDF da Normal(0,sigma**2)\n",
    "F = norm(loc=0, scale=sigma).cdf\n",
    "\n",
    "# desvio padrão de y_t\n",
    "std = np.sqrt(sigma**2 / (1-ro**2))\n",
    "\n",
    "# upper bound do grid\n",
    "z_N = m * std\n",
    "\n",
    "# lower bound do grid\n",
    "z_1 = - z_N\n",
    "\n",
    "# grid\n",
    "z = np.linspace(z_1, z_N, N)\n",
    "\n",
    "# Matriz de transição\n",
    "delta_z = (z_N - z_1) / (N - 1)\n",
    "half_delta = 0.5 * delta_z\n",
    "P = np.empty((N, N))\n",
    "\n",
    "for i in range(N):\n",
    "    P[i, 0] = F(z[0]-ro * z[i] + half_delta)\n",
    "    P[i, N-1] = 1 - F(z[N-1] - ro * z[i] - half_delta)\n",
    "    for j in range(1, N-1):\n",
    "        x = z[j] - ro * z[i]\n",
    "        P[i, j] = F(x + half_delta) - F(x - half_delta)"
   ]
  },
  {
   "cell_type": "code",
   "execution_count": 138,
   "metadata": {},
   "outputs": [
    {
     "data": {
      "text/plain": [
       "array([[0.818, 0.181, 0.001, 0.   , 0.   , 0.   , 0.   , 0.   , 0.   ,\n",
       "        0.   , 0.   , 0.   , 0.   , 0.   , 0.   , 0.   , 0.   , 0.   ,\n",
       "        0.   , 0.   ],\n",
       "       [0.095, 0.728, 0.176, 0.001, 0.   , 0.   , 0.   , 0.   , 0.   ,\n",
       "        0.   , 0.   , 0.   , 0.   , 0.   , 0.   , 0.   , 0.   , 0.   ,\n",
       "        0.   , 0.   ],\n",
       "       [0.   , 0.099, 0.73 , 0.17 , 0.001, 0.   , 0.   , 0.   , 0.   ,\n",
       "        0.   , 0.   , 0.   , 0.   , 0.   , 0.   , 0.   , 0.   , 0.   ,\n",
       "        0.   , 0.   ],\n",
       "       [0.   , 0.   , 0.103, 0.732, 0.164, 0.001, 0.   , 0.   , 0.   ,\n",
       "        0.   , 0.   , 0.   , 0.   , 0.   , 0.   , 0.   , 0.   , 0.   ,\n",
       "        0.   , 0.   ],\n",
       "       [0.   , 0.   , 0.   , 0.107, 0.733, 0.159, 0.001, 0.   , 0.   ,\n",
       "        0.   , 0.   , 0.   , 0.   , 0.   , 0.   , 0.   , 0.   , 0.   ,\n",
       "        0.   , 0.   ],\n",
       "       [0.   , 0.   , 0.   , 0.   , 0.111, 0.735, 0.154, 0.001, 0.   ,\n",
       "        0.   , 0.   , 0.   , 0.   , 0.   , 0.   , 0.   , 0.   , 0.   ,\n",
       "        0.   , 0.   ],\n",
       "       [0.   , 0.   , 0.   , 0.   , 0.   , 0.115, 0.736, 0.148, 0.001,\n",
       "        0.   , 0.   , 0.   , 0.   , 0.   , 0.   , 0.   , 0.   , 0.   ,\n",
       "        0.   , 0.   ],\n",
       "       [0.   , 0.   , 0.   , 0.   , 0.   , 0.   , 0.12 , 0.736, 0.143,\n",
       "        0.   , 0.   , 0.   , 0.   , 0.   , 0.   , 0.   , 0.   , 0.   ,\n",
       "        0.   , 0.   ],\n",
       "       [0.   , 0.   , 0.   , 0.   , 0.   , 0.   , 0.   , 0.124, 0.737,\n",
       "        0.138, 0.   , 0.   , 0.   , 0.   , 0.   , 0.   , 0.   , 0.   ,\n",
       "        0.   , 0.   ],\n",
       "       [0.   , 0.   , 0.   , 0.   , 0.   , 0.   , 0.   , 0.   , 0.129,\n",
       "        0.737, 0.134, 0.   , 0.   , 0.   , 0.   , 0.   , 0.   , 0.   ,\n",
       "        0.   , 0.   ],\n",
       "       [0.   , 0.   , 0.   , 0.   , 0.   , 0.   , 0.   , 0.   , 0.   ,\n",
       "        0.134, 0.737, 0.129, 0.   , 0.   , 0.   , 0.   , 0.   , 0.   ,\n",
       "        0.   , 0.   ],\n",
       "       [0.   , 0.   , 0.   , 0.   , 0.   , 0.   , 0.   , 0.   , 0.   ,\n",
       "        0.   , 0.138, 0.737, 0.124, 0.   , 0.   , 0.   , 0.   , 0.   ,\n",
       "        0.   , 0.   ],\n",
       "       [0.   , 0.   , 0.   , 0.   , 0.   , 0.   , 0.   , 0.   , 0.   ,\n",
       "        0.   , 0.   , 0.143, 0.736, 0.12 , 0.   , 0.   , 0.   , 0.   ,\n",
       "        0.   , 0.   ],\n",
       "       [0.   , 0.   , 0.   , 0.   , 0.   , 0.   , 0.   , 0.   , 0.   ,\n",
       "        0.   , 0.   , 0.001, 0.148, 0.736, 0.115, 0.   , 0.   , 0.   ,\n",
       "        0.   , 0.   ],\n",
       "       [0.   , 0.   , 0.   , 0.   , 0.   , 0.   , 0.   , 0.   , 0.   ,\n",
       "        0.   , 0.   , 0.   , 0.001, 0.154, 0.735, 0.111, 0.   , 0.   ,\n",
       "        0.   , 0.   ],\n",
       "       [0.   , 0.   , 0.   , 0.   , 0.   , 0.   , 0.   , 0.   , 0.   ,\n",
       "        0.   , 0.   , 0.   , 0.   , 0.001, 0.159, 0.733, 0.107, 0.   ,\n",
       "        0.   , 0.   ],\n",
       "       [0.   , 0.   , 0.   , 0.   , 0.   , 0.   , 0.   , 0.   , 0.   ,\n",
       "        0.   , 0.   , 0.   , 0.   , 0.   , 0.001, 0.164, 0.732, 0.103,\n",
       "        0.   , 0.   ],\n",
       "       [0.   , 0.   , 0.   , 0.   , 0.   , 0.   , 0.   , 0.   , 0.   ,\n",
       "        0.   , 0.   , 0.   , 0.   , 0.   , 0.   , 0.001, 0.17 , 0.73 ,\n",
       "        0.099, 0.   ],\n",
       "       [0.   , 0.   , 0.   , 0.   , 0.   , 0.   , 0.   , 0.   , 0.   ,\n",
       "        0.   , 0.   , 0.   , 0.   , 0.   , 0.   , 0.   , 0.001, 0.176,\n",
       "        0.728, 0.095],\n",
       "       [0.   , 0.   , 0.   , 0.   , 0.   , 0.   , 0.   , 0.   , 0.   ,\n",
       "        0.   , 0.   , 0.   , 0.   , 0.   , 0.   , 0.   , 0.   , 0.001,\n",
       "        0.181, 0.818]])"
      ]
     },
     "execution_count": 138,
     "metadata": {},
     "output_type": "execute_result"
    }
   ],
   "source": [
    "P.round(3)"
   ]
  },
  {
   "cell_type": "code",
   "execution_count": 139,
   "metadata": {},
   "outputs": [
    {
     "data": {
      "text/plain": [
       "array([-0.1489, -0.1332, -0.1175, -0.1019, -0.0862, -0.0705, -0.0548,\n",
       "       -0.0392, -0.0235, -0.0078,  0.0078,  0.0235,  0.0392,  0.0548,\n",
       "        0.0705,  0.0862,  0.1019,  0.1175,  0.1332,  0.1489])"
      ]
     },
     "execution_count": 139,
     "metadata": {},
     "output_type": "execute_result"
    }
   ],
   "source": [
    "z.round(4)"
   ]
  },
  {
   "cell_type": "markdown",
   "metadata": {},
   "source": [
    "#### Questão 2"
   ]
  },
  {
   "cell_type": "code",
   "execution_count": 140,
   "metadata": {},
   "outputs": [],
   "source": [
    "# sigma_theta**2\n",
    "sigma_theta2 = (sigma**2/(1 - ro**2))\n",
    "\n",
    "# upper bound do grid\n",
    "theta_N = np.sqrt((sigma_theta2)*(N-1))\n",
    "\n",
    "# lower bound do grid\n",
    "theta_1 = -theta_N\n",
    "\n",
    "# grid\n",
    "theta = np.linspace(theta_1, theta_N, N)\n",
    "\n",
    "# p\n",
    "p = (1+ro)/2"
   ]
  },
  {
   "cell_type": "code",
   "execution_count": 141,
   "metadata": {},
   "outputs": [
    {
     "data": {
      "text/plain": [
       "array([-0.2163, -0.1935, -0.1708, -0.148 , -0.1252, -0.1025, -0.0797,\n",
       "       -0.0569, -0.0342, -0.0114,  0.0114,  0.0342,  0.0569,  0.0797,\n",
       "        0.1025,  0.1252,  0.148 ,  0.1708,  0.1935,  0.2163])"
      ]
     },
     "execution_count": 141,
     "metadata": {},
     "output_type": "execute_result"
    }
   ],
   "source": [
    "theta.round(4)"
   ]
  },
  {
   "cell_type": "code",
   "execution_count": 142,
   "metadata": {},
   "outputs": [
    {
     "data": {
      "text/plain": [
       "array([[0.995, 0.005],\n",
       "       [0.005, 0.995]])"
      ]
     },
     "execution_count": 142,
     "metadata": {},
     "output_type": "execute_result"
    }
   ],
   "source": [
    "# P2\n",
    "P2 = [[p, 1-p],[1-p, p]]\n",
    "Pr = np.array(P2)\n",
    "Pr"
   ]
  },
  {
   "cell_type": "code",
   "execution_count": 143,
   "metadata": {},
   "outputs": [],
   "source": [
    "# Matriz de transição\n",
    "\n",
    "for i in range (3,N+1):\n",
    "    Pr = p*np.vstack((np.hstack((Pr,np.zeros((i-1,1)))), np.zeros((1, i)))) \\\n",
    "        + (1-p)*np.vstack((np.hstack((np.zeros((i-1, 1)), Pr)), np.zeros((1, i)))) \\\n",
    "        + (1-p)*np.vstack((np.zeros((1, i)), np.hstack((Pr, np.zeros((i-1, 1)))))) \\\n",
    "        + p*np.vstack((np.zeros((1, i)), np.hstack((np.zeros((i-1, 1)), Pr))))\n",
    "    Pr[1:-1] /= 2.\n",
    "        "
   ]
  },
  {
   "cell_type": "code",
   "execution_count": 144,
   "metadata": {},
   "outputs": [
    {
     "data": {
      "text/plain": [
       "array([[0.909, 0.087, 0.004, 0.   , 0.   , 0.   , 0.   , 0.   , 0.   ,\n",
       "        0.   , 0.   , 0.   , 0.   , 0.   , 0.   , 0.   , 0.   , 0.   ,\n",
       "        0.   , 0.   ],\n",
       "       [0.005, 0.91 , 0.082, 0.004, 0.   , 0.   , 0.   , 0.   , 0.   ,\n",
       "        0.   , 0.   , 0.   , 0.   , 0.   , 0.   , 0.   , 0.   , 0.   ,\n",
       "        0.   , 0.   ],\n",
       "       [0.   , 0.009, 0.91 , 0.078, 0.003, 0.   , 0.   , 0.   , 0.   ,\n",
       "        0.   , 0.   , 0.   , 0.   , 0.   , 0.   , 0.   , 0.   , 0.   ,\n",
       "        0.   , 0.   ],\n",
       "       [0.   , 0.   , 0.014, 0.91 , 0.073, 0.003, 0.   , 0.   , 0.   ,\n",
       "        0.   , 0.   , 0.   , 0.   , 0.   , 0.   , 0.   , 0.   , 0.   ,\n",
       "        0.   , 0.   ],\n",
       "       [0.   , 0.   , 0.   , 0.018, 0.911, 0.069, 0.002, 0.   , 0.   ,\n",
       "        0.   , 0.   , 0.   , 0.   , 0.   , 0.   , 0.   , 0.   , 0.   ,\n",
       "        0.   , 0.   ],\n",
       "       [0.   , 0.   , 0.   , 0.   , 0.023, 0.911, 0.064, 0.002, 0.   ,\n",
       "        0.   , 0.   , 0.   , 0.   , 0.   , 0.   , 0.   , 0.   , 0.   ,\n",
       "        0.   , 0.   ],\n",
       "       [0.   , 0.   , 0.   , 0.   , 0.   , 0.027, 0.911, 0.059, 0.002,\n",
       "        0.   , 0.   , 0.   , 0.   , 0.   , 0.   , 0.   , 0.   , 0.   ,\n",
       "        0.   , 0.   ],\n",
       "       [0.   , 0.   , 0.   , 0.   , 0.   , 0.   , 0.032, 0.911, 0.055,\n",
       "        0.002, 0.   , 0.   , 0.   , 0.   , 0.   , 0.   , 0.   , 0.   ,\n",
       "        0.   , 0.   ],\n",
       "       [0.   , 0.   , 0.   , 0.   , 0.   , 0.   , 0.001, 0.037, 0.911,\n",
       "        0.05 , 0.001, 0.   , 0.   , 0.   , 0.   , 0.   , 0.   , 0.   ,\n",
       "        0.   , 0.   ],\n",
       "       [0.   , 0.   , 0.   , 0.   , 0.   , 0.   , 0.   , 0.001, 0.041,\n",
       "        0.911, 0.046, 0.001, 0.   , 0.   , 0.   , 0.   , 0.   , 0.   ,\n",
       "        0.   , 0.   ],\n",
       "       [0.   , 0.   , 0.   , 0.   , 0.   , 0.   , 0.   , 0.   , 0.001,\n",
       "        0.046, 0.911, 0.041, 0.001, 0.   , 0.   , 0.   , 0.   , 0.   ,\n",
       "        0.   , 0.   ],\n",
       "       [0.   , 0.   , 0.   , 0.   , 0.   , 0.   , 0.   , 0.   , 0.   ,\n",
       "        0.001, 0.05 , 0.911, 0.037, 0.001, 0.   , 0.   , 0.   , 0.   ,\n",
       "        0.   , 0.   ],\n",
       "       [0.   , 0.   , 0.   , 0.   , 0.   , 0.   , 0.   , 0.   , 0.   ,\n",
       "        0.   , 0.002, 0.055, 0.911, 0.032, 0.   , 0.   , 0.   , 0.   ,\n",
       "        0.   , 0.   ],\n",
       "       [0.   , 0.   , 0.   , 0.   , 0.   , 0.   , 0.   , 0.   , 0.   ,\n",
       "        0.   , 0.   , 0.002, 0.059, 0.911, 0.027, 0.   , 0.   , 0.   ,\n",
       "        0.   , 0.   ],\n",
       "       [0.   , 0.   , 0.   , 0.   , 0.   , 0.   , 0.   , 0.   , 0.   ,\n",
       "        0.   , 0.   , 0.   , 0.002, 0.064, 0.911, 0.023, 0.   , 0.   ,\n",
       "        0.   , 0.   ],\n",
       "       [0.   , 0.   , 0.   , 0.   , 0.   , 0.   , 0.   , 0.   , 0.   ,\n",
       "        0.   , 0.   , 0.   , 0.   , 0.002, 0.069, 0.911, 0.018, 0.   ,\n",
       "        0.   , 0.   ],\n",
       "       [0.   , 0.   , 0.   , 0.   , 0.   , 0.   , 0.   , 0.   , 0.   ,\n",
       "        0.   , 0.   , 0.   , 0.   , 0.   , 0.003, 0.073, 0.91 , 0.014,\n",
       "        0.   , 0.   ],\n",
       "       [0.   , 0.   , 0.   , 0.   , 0.   , 0.   , 0.   , 0.   , 0.   ,\n",
       "        0.   , 0.   , 0.   , 0.   , 0.   , 0.   , 0.003, 0.078, 0.91 ,\n",
       "        0.009, 0.   ],\n",
       "       [0.   , 0.   , 0.   , 0.   , 0.   , 0.   , 0.   , 0.   , 0.   ,\n",
       "        0.   , 0.   , 0.   , 0.   , 0.   , 0.   , 0.   , 0.004, 0.082,\n",
       "        0.91 , 0.005],\n",
       "       [0.   , 0.   , 0.   , 0.   , 0.   , 0.   , 0.   , 0.   , 0.   ,\n",
       "        0.   , 0.   , 0.   , 0.   , 0.   , 0.   , 0.   , 0.   , 0.004,\n",
       "        0.087, 0.909]])"
      ]
     },
     "execution_count": 144,
     "metadata": {},
     "output_type": "execute_result"
    }
   ],
   "source": [
    "Pr.round(3)"
   ]
  },
  {
   "cell_type": "markdown",
   "metadata": {},
   "source": [
    "#### Questão 3"
   ]
  },
  {
   "cell_type": "code",
   "execution_count": 145,
   "metadata": {},
   "outputs": [],
   "source": [
    "# simulando - contínuo\n",
    "for t in range(1,time):\n",
    "    cont[t] = ro*cont[t-1] + sigma*e[t]"
   ]
  },
  {
   "cell_type": "code",
   "execution_count": 146,
   "metadata": {},
   "outputs": [],
   "source": [
    "# simulando - tauchen\n",
    "for t in range(2,time):\n",
    "    x = np.where(norm(loc=0, scale=1).cdf(e[t]) <= P[tauch[t-1]].cumsum())\n",
    "    g = np.transpose(x)\n",
    "    tauch[t] = g[0]"
   ]
  },
  {
   "cell_type": "code",
   "execution_count": 147,
   "metadata": {},
   "outputs": [],
   "source": [
    "# recuperando os valores no grid\n",
    "tauchen = z[tauch]"
   ]
  },
  {
   "cell_type": "code",
   "execution_count": 148,
   "metadata": {},
   "outputs": [],
   "source": [
    "# simulando - rouwenhorst\n",
    "for t in range(2,time):\n",
    "    x = np.where(norm(loc=0, scale=1).cdf(e[t]) <= Pr[rouwen[t-1]].cumsum())\n",
    "    g = np.transpose(x)\n",
    "    rouwen[t] = g[0]"
   ]
  },
  {
   "cell_type": "code",
   "execution_count": 149,
   "metadata": {},
   "outputs": [],
   "source": [
    "# recuperando os valores no grid\n",
    "rouwenhorst = theta[rouwen]"
   ]
  },
  {
   "cell_type": "code",
   "execution_count": 150,
   "metadata": {},
   "outputs": [
    {
     "data": {
      "text/html": [
       "<iframe id=\"igraph\" scrolling=\"no\" style=\"border:none;\" seamless=\"seamless\" src=\"https://plot.ly/~gustavobulhoes/8.embed\" height=\"525px\" width=\"100%\"></iframe>"
      ],
      "text/plain": [
       "<plotly.tools.PlotlyDisplay object>"
      ]
     },
     "execution_count": 150,
     "metadata": {},
     "output_type": "execute_result"
    }
   ],
   "source": [
    "trace0 = go.Scatter(\n",
    "    x = tempo,\n",
    "    y = cont,\n",
    "    mode = 'lines',\n",
    "    name = 'Contínuo'\n",
    ")\n",
    "trace1 = go.Scatter(\n",
    "    x = tempo,\n",
    "    y = tauchen,\n",
    "    mode = 'lines',\n",
    "    name = 'Tauchen'\n",
    ")\n",
    "trace2 = go.Scatter(\n",
    "    x = tempo,\n",
    "    y = rouwenhorst,\n",
    "    mode = 'lines',\n",
    "    name = 'Rouwenhorst'\n",
    ")\n",
    "\n",
    "data = [trace0, trace1, trace2]\n",
    "layout = go.Layout(\n",
    "    title='Comparativo das simulações do AR(1) contínuo e discretizado',\n",
    "    xaxis=dict(\n",
    "        title='Tempo'\n",
    "        )\n",
    "    ,\n",
    "    yaxis=dict(\n",
    "        title='Processo'\n",
    "    )\n",
    ")\n",
    "fig = go.Figure(data=data, layout=layout)\n",
    "py.iplot(fig, filename='cont vs tauchen vs rouwenhorst')"
   ]
  },
  {
   "cell_type": "code",
   "execution_count": 151,
   "metadata": {},
   "outputs": [
    {
     "data": {
      "text/html": [
       "<iframe id=\"igraph\" scrolling=\"no\" style=\"border:none;\" seamless=\"seamless\" src=\"https://plot.ly/~gustavobulhoes/4.embed\" height=\"525px\" width=\"100%\"></iframe>"
      ],
      "text/plain": [
       "<plotly.tools.PlotlyDisplay object>"
      ]
     },
     "execution_count": 151,
     "metadata": {},
     "output_type": "execute_result"
    }
   ],
   "source": [
    "trace0 = go.Scatter(\n",
    "    x = tempo,\n",
    "    y = cont,\n",
    "    mode = 'lines',\n",
    "    name = 'Contínuo'\n",
    ")\n",
    "trace1 = go.Scatter(\n",
    "    x = tempo,\n",
    "    y = tauchen,\n",
    "    mode = 'lines',\n",
    "    name = 'Tauchen'\n",
    ")\n",
    "\n",
    "data = [trace0, trace1]\n",
    "layout = go.Layout(\n",
    "    title='Comparativo das simulações do AR(1) contínuo e discretizado',\n",
    "    xaxis=dict(\n",
    "        title='Tempo'\n",
    "        )\n",
    "    ,\n",
    "    yaxis=dict(\n",
    "        title='Processo'\n",
    "    )\n",
    ")\n",
    "fig = go.Figure(data=data, layout=layout)\n",
    "py.iplot(fig, filename='cont vs tauchen')"
   ]
  },
  {
   "cell_type": "code",
   "execution_count": 152,
   "metadata": {},
   "outputs": [
    {
     "data": {
      "text/html": [
       "<iframe id=\"igraph\" scrolling=\"no\" style=\"border:none;\" seamless=\"seamless\" src=\"https://plot.ly/~gustavobulhoes/12.embed\" height=\"525px\" width=\"100%\"></iframe>"
      ],
      "text/plain": [
       "<plotly.tools.PlotlyDisplay object>"
      ]
     },
     "execution_count": 152,
     "metadata": {},
     "output_type": "execute_result"
    }
   ],
   "source": [
    "trace0 = go.Scatter(\n",
    "    x = tempo,\n",
    "    y = cont,\n",
    "    mode = 'lines',\n",
    "    name = 'Contínuo'\n",
    ")\n",
    "trace1 = go.Scatter(\n",
    "    x = tempo,\n",
    "    y = rouwenhorst,\n",
    "    mode = 'lines',\n",
    "    name = 'Rouwenhorst'\n",
    ")\n",
    "\n",
    "data = [trace0, trace1]\n",
    "layout = go.Layout(\n",
    "    title='Comparativo das simulações do AR(1) contínuo e discretizado',\n",
    "    xaxis=dict(\n",
    "        title='Tempo'\n",
    "        )\n",
    "    ,\n",
    "    yaxis=dict(\n",
    "        title='Processo'\n",
    "    )\n",
    ")\n",
    "fig = go.Figure(data=data, layout=layout)\n",
    "py.iplot(fig, filename='cont vs rouwenhorst')"
   ]
  },
  {
   "cell_type": "markdown",
   "metadata": {},
   "source": [
    "Com 20 pontos no grid, o método de Tauchen melhorou consideravelmente e parece aproximar melhor o processo contínuo do que o de Rouwenhorst."
   ]
  },
  {
   "cell_type": "markdown",
   "metadata": {},
   "source": [
    "#### Questão 4"
   ]
  },
  {
   "cell_type": "code",
   "execution_count": 153,
   "metadata": {},
   "outputs": [
    {
     "data": {
      "text/plain": [
       "0.9887724574028535"
      ]
     },
     "execution_count": 153,
     "metadata": {},
     "output_type": "execute_result"
    }
   ],
   "source": [
    "# ajustando dimensões\n",
    "x = np.transpose(tauchen[0:-1])\n",
    "xp = x.ravel()\n",
    "w = np.transpose(tauchen[1:])\n",
    "wp = w.ravel()\n",
    "\n",
    "# estimando rô\n",
    "h = sp.polyfit(xp,wp,1)\n",
    "ro_hat_tauchen = h[0]\n",
    "ro_hat_tauchen"
   ]
  },
  {
   "cell_type": "code",
   "execution_count": 154,
   "metadata": {},
   "outputs": [
    {
     "data": {
      "text/plain": [
       "0.007953787122432178"
      ]
     },
     "execution_count": 154,
     "metadata": {},
     "output_type": "execute_result"
    }
   ],
   "source": [
    "# estimando sigma\n",
    "wp_hat = sp.polyval(h,xp)\n",
    "variance_t = sp.var(wp - wp_hat)\n",
    "sigma_hat_tauchen = sp.sqrt(variance_t)\n",
    "sigma_hat_tauchen"
   ]
  },
  {
   "cell_type": "code",
   "execution_count": 155,
   "metadata": {},
   "outputs": [
    {
     "data": {
      "text/plain": [
       "0.9908169803761103"
      ]
     },
     "execution_count": 155,
     "metadata": {},
     "output_type": "execute_result"
    }
   ],
   "source": [
    "# ajustando dimensões\n",
    "a = np.transpose(rouwenhorst[0:-1])\n",
    "ap = a.ravel()\n",
    "b = np.transpose(rouwenhorst[1:])\n",
    "bp = b.ravel()\n",
    "\n",
    "# estimando rô\n",
    "g = sp.polyfit(ap,bp,1)\n",
    "ro_hat_rouwenhorst = g[0]\n",
    "ro_hat_rouwenhorst"
   ]
  },
  {
   "cell_type": "code",
   "execution_count": 156,
   "metadata": {},
   "outputs": [
    {
     "data": {
      "text/plain": [
       "0.007051988228267814"
      ]
     },
     "execution_count": 156,
     "metadata": {},
     "output_type": "execute_result"
    }
   ],
   "source": [
    "# estimando sigma\n",
    "bp_hat = sp.polyval(g,ap)\n",
    "variance_r = sp.var(bp - bp_hat)\n",
    "sigma_hat_rouwenhorst = sp.sqrt(variance_r)\n",
    "sigma_hat_rouwenhorst"
   ]
  },
  {
   "cell_type": "markdown",
   "metadata": {},
   "source": [
    "Com 20 pontos no grid, as estimações baseadas nos dados simulados pelo método de Tauchen voltaram a ficar próximas, mas Rouwenhorst continua performando melhor nesse quesito, estando mais próximo dos valores reais dos parâmetros. "
   ]
  },
  {
   "cell_type": "code",
   "execution_count": null,
   "metadata": {},
   "outputs": [],
   "source": []
  }
 ],
 "metadata": {
  "kernelspec": {
   "display_name": "Python 3",
   "language": "python",
   "name": "python3"
  },
  "language_info": {
   "codemirror_mode": {
    "name": "ipython",
    "version": 3
   },
   "file_extension": ".py",
   "mimetype": "text/x-python",
   "name": "python",
   "nbconvert_exporter": "python",
   "pygments_lexer": "ipython3",
   "version": "3.6.4"
  }
 },
 "nbformat": 4,
 "nbformat_minor": 2
}
